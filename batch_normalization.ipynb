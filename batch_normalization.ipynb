{
 "cells": [
  {
   "cell_type": "code",
   "execution_count": 1,
   "metadata": {},
   "outputs": [
    {
     "name": "stdout",
     "output_type": "stream",
     "text": [
      "Batch-Normalized Output:\n",
      " tensor([[-1.4638, -1.4638, -1.4638, -1.4638, -1.4638, -1.4638, -1.4638, -1.4638],\n",
      "        [-0.8783, -0.8783, -0.8783, -0.8783, -0.8783, -0.8783, -0.8783, -0.8783],\n",
      "        [-0.2928, -0.2928, -0.2928, -0.2928, -0.2928, -0.2928, -0.2928, -0.2928],\n",
      "        [ 0.2928,  0.2928,  0.2928,  0.2928,  0.2928,  0.2928,  0.2928,  0.2928],\n",
      "        [ 0.8783,  0.8783,  0.8783,  0.8783,  0.8783,  0.8783,  0.8783,  0.8783],\n",
      "        [ 1.4638,  1.4638,  1.4638,  1.4638,  1.4638,  1.4638,  1.4638,  1.4638]],\n",
      "       grad_fn=<NativeBatchNormBackward0>)\n",
      "Running Mean (BatchNorm1d):\n",
      " tensor([0.3500, 0.4500, 0.5500, 0.6500, 0.7500, 0.8500, 0.9500, 1.0500])\n",
      "Running Variance (BatchNorm1d):\n",
      " tensor([1.2500, 1.2500, 1.2500, 1.2500, 1.2500, 1.2500, 1.2500, 1.2500])\n"
     ]
    }
   ],
   "source": [
    "import torch\n",
    "import torch.nn as nn\n",
    "\n",
    "# Sample input (batch of 6 data points, each with 8 features)\n",
    "x = torch.tensor([[1.0, 2.0, 3.0, 4.0, 5.0, 6.0, 7.0, 8.0], \n",
    "                  [2.0, 3.0, 4.0, 5.0, 6.0, 7.0, 8.0, 9.0], \n",
    "                  [3.0, 4.0, 5.0, 6.0, 7.0, 8.0, 9.0, 10.0], \n",
    "                  [4.0, 5.0, 6.0, 7.0, 8.0, 9.0, 10.0, 11.0],\n",
    "                  [5.0, 6.0, 7.0, 8.0, 9.0, 10.0, 11.0, 12.0],\n",
    "                  [6.0, 7.0, 8.0, 9.0, 10.0, 11.0, 12.0, 13.0]])\n",
    "\n",
    "# Defining a simple network with BatchNorm1d for 8 features\n",
    "class BatchNormNet(nn.Module):\n",
    "    def __init__(self):\n",
    "        super(BatchNormNet, self).__init__()\n",
    "        self.batch_norm = nn.BatchNorm1d(num_features=8)  # Batch normalization over 8 features\n",
    "    \n",
    "    def forward(self, x):\n",
    "        return self.batch_norm(x)\n",
    "\n",
    "# Initialize the model\n",
    "model = BatchNormNet()\n",
    "\n",
    "# Forward pass through the model\n",
    "output = model(x)\n",
    "\n",
    "# Access the running mean and variance after the forward pass\n",
    "running_mean = model.batch_norm.running_mean\n",
    "running_var = model.batch_norm.running_var\n",
    "\n",
    "print(\"Batch-Normalized Output:\\n\", output)\n",
    "print(\"Running Mean (BatchNorm1d):\\n\", running_mean)\n",
    "print(\"Running Variance (BatchNorm1d):\\n\", running_var)\n"
   ]
  },
  {
   "cell_type": "code",
   "execution_count": null,
   "metadata": {},
   "outputs": [],
   "source": []
  }
 ],
 "metadata": {
  "kernelspec": {
   "display_name": "ml_env",
   "language": "python",
   "name": "python3"
  },
  "language_info": {
   "codemirror_mode": {
    "name": "ipython",
    "version": 3
   },
   "file_extension": ".py",
   "mimetype": "text/x-python",
   "name": "python",
   "nbconvert_exporter": "python",
   "pygments_lexer": "ipython3",
   "version": "3.9.12"
  }
 },
 "nbformat": 4,
 "nbformat_minor": 2
}
