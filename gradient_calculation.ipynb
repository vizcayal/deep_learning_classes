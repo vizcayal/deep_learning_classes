{
 "cells": [
  {
   "cell_type": "markdown",
   "metadata": {},
   "source": [
    "# Import Libraries"
   ]
  },
  {
   "cell_type": "code",
   "execution_count": 2,
   "metadata": {},
   "outputs": [],
   "source": [
    "import torch"
   ]
  },
  {
   "cell_type": "code",
   "execution_count": 5,
   "metadata": {},
   "outputs": [
    {
     "data": {
      "text/plain": [
       "tensor([0.5099, 0.8483, 0.4939, 0.4681, 0.2442, 0.4255, 0.8565, 0.5799, 0.4488,\n",
       "        0.8677], requires_grad=True)"
      ]
     },
     "execution_count": 5,
     "metadata": {},
     "output_type": "execute_result"
    }
   ],
   "source": [
    "# define a variable with requires_grad\n",
    "y = torch.rand(10)\n",
    "\n",
    "x = torch.rand(10, requires_grad = True)\n",
    "x"
   ]
  },
  {
   "cell_type": "code",
   "execution_count": 8,
   "metadata": {},
   "outputs": [
    {
     "name": "stdout",
     "output_type": "stream",
     "text": [
      "tensor(0.3708, grad_fn=<MeanBackward0>)\n"
     ]
    }
   ],
   "source": [
    "b = (x**2).mean()\n",
    "print(b)\n",
    "\n",
    "b.backward()"
   ]
  },
  {
   "cell_type": "code",
   "execution_count": 10,
   "metadata": {},
   "outputs": [
    {
     "name": "stdout",
     "output_type": "stream",
     "text": [
      "tensor([0.1020, 0.1697, 0.0988, 0.0936, 0.0488, 0.0851, 0.1713, 0.1160, 0.0898,\n",
      "        0.1735])\n",
      "tensor([0.1020, 0.1697, 0.0988, 0.0936, 0.0488, 0.0851, 0.1713, 0.1160, 0.0898,\n",
      "        0.1735], grad_fn=<DivBackward0>)\n"
     ]
    }
   ],
   "source": [
    "print(x.grad)\n",
    "print(2*x/10)"
   ]
  }
 ],
 "metadata": {
  "kernelspec": {
   "display_name": "deep_learn_env",
   "language": "python",
   "name": "python3"
  },
  "language_info": {
   "codemirror_mode": {
    "name": "ipython",
    "version": 3
   },
   "file_extension": ".py",
   "mimetype": "text/x-python",
   "name": "python",
   "nbconvert_exporter": "python",
   "pygments_lexer": "ipython3",
   "version": "3.11.9"
  }
 },
 "nbformat": 4,
 "nbformat_minor": 2
}
