{
 "cells": [
  {
   "cell_type": "code",
   "execution_count": null,
   "id": "9535405d",
   "metadata": {},
   "outputs": [],
   "source": [
    "import time\n",
    "\n",
    "import torch\n",
    "\n",
    "print(torch.__version__)"
   ]
  },
  {
   "cell_type": "code",
   "execution_count": null,
   "id": "0a968002",
   "metadata": {},
   "outputs": [],
   "source": [
    "x = [1, 2, 3, 4, 5]\n",
    "x = torch.as_tensor(x)\n",
    "print(x)"
   ]
  },
  {
   "cell_type": "code",
   "execution_count": null,
   "id": "137d6a0c",
   "metadata": {},
   "outputs": [],
   "source": [
    "x = torch.zeros(3, 4)\n",
    "print(x)"
   ]
  },
  {
   "cell_type": "code",
   "execution_count": null,
   "id": "5827473e",
   "metadata": {},
   "outputs": [],
   "source": [
    "x = torch.ones(3, 4)\n",
    "print(x)"
   ]
  },
  {
   "cell_type": "code",
   "execution_count": null,
   "id": "c0bdd951",
   "metadata": {},
   "outputs": [],
   "source": [
    "x = torch.full((3, 4), fill_value=2)\n",
    "print(x)"
   ]
  },
  {
   "cell_type": "code",
   "execution_count": null,
   "id": "eed74aea",
   "metadata": {},
   "outputs": [],
   "source": [
    "x = torch.randn(3, 4)\n",
    "print(x)"
   ]
  },
  {
   "cell_type": "code",
   "execution_count": null,
   "id": "580f4a1c",
   "metadata": {},
   "outputs": [],
   "source": [
    "x = torch.randn(3, 4)\n",
    "y = torch.zeros_like(x)\n",
    "print(y)"
   ]
  },
  {
   "cell_type": "code",
   "execution_count": null,
   "id": "5e4c7529",
   "metadata": {},
   "outputs": [],
   "source": [
    "x = torch.randn(3, 4)\n",
    "y = torch.ones_like(x)\n",
    "print(y)"
   ]
  },
  {
   "cell_type": "code",
   "execution_count": null,
   "id": "68017668",
   "metadata": {},
   "outputs": [],
   "source": [
    "x = torch.randn(3, 4)\n",
    "y = torch.full_like(x, 5)\n",
    "print(y)"
   ]
  },
  {
   "cell_type": "code",
   "execution_count": null,
   "id": "e9ffddc7",
   "metadata": {},
   "outputs": [],
   "source": [
    "x = torch.zeros(3, 4, dtype=torch.bool)\n",
    "y = x.new_tensor([1, 2, 3, 4])\n",
    "print(y)"
   ]
  },
  {
   "cell_type": "code",
   "execution_count": null,
   "id": "ddde9615",
   "metadata": {},
   "outputs": [],
   "source": [
    "x = torch.ones(5, 1)\n",
    "y = torch.ones(1, 5)\n",
    "z = x + y\n",
    "print(z, z.shape)"
   ]
  },
  {
   "cell_type": "code",
   "execution_count": null,
   "id": "0afc06c0",
   "metadata": {},
   "outputs": [],
   "source": [
    "x = torch.ones(1, 1, 1, 1, 1)\n",
    "y = torch.ones(2, 1, 3, 1, 2)\n",
    "z = x + y\n",
    "print(z, z.shape)"
   ]
  },
  {
   "cell_type": "code",
   "execution_count": null,
   "id": "aad1516e",
   "metadata": {},
   "outputs": [],
   "source": [
    "x = torch.ones(3, 4, 5)\n",
    "print(x.mean())\n",
    "print(x.mean(-1))"
   ]
  },
  {
   "cell_type": "code",
   "execution_count": null,
   "id": "f910a1a9",
   "metadata": {},
   "outputs": [],
   "source": [
    "x = torch.ones(3, 4, 5)\n",
    "print(x.sum(dim=0))\n",
    "print(x.sum(dim=(1, 2)))"
   ]
  },
  {
   "cell_type": "code",
   "execution_count": null,
   "id": "fd0924c1",
   "metadata": {},
   "outputs": [],
   "source": [
    "x = torch.ones(3, 4, 5)\n",
    "y = x.sum(dim=(1, 2))\n",
    "z = x.sum(dim=(1, 2), keepdim=True)\n",
    "print(y, y.shape)\n",
    "print(z, z.shape)"
   ]
  },
  {
   "cell_type": "code",
   "execution_count": null,
   "id": "7c257a98",
   "metadata": {},
   "outputs": [],
   "source": [
    "x = torch.randn(5, 5)\n",
    "print(x.to(torch.long))"
   ]
  },
  {
   "cell_type": "code",
   "execution_count": null,
   "id": "09c380d2",
   "metadata": {},
   "outputs": [],
   "source": [
    "x = torch.randn(2, 3, 2)\n",
    "y = x.view(6, 2)\n",
    "z = x.view(-1, 2)\n",
    "print(y, y.shape)\n",
    "print(z, z.shape)"
   ]
  },
  {
   "cell_type": "code",
   "execution_count": null,
   "id": "3ffa8638",
   "metadata": {},
   "outputs": [],
   "source": [
    "x = torch.randn(2, 3, 2)\n",
    "y = x.permute(1, 2, 0)\n",
    "print(y, y.shape)"
   ]
  },
  {
   "cell_type": "code",
   "execution_count": null,
   "id": "d535db03",
   "metadata": {},
   "outputs": [],
   "source": [
    "x = torch.ones(2, 3)\n",
    "y = torch.ones(2, 3)\n",
    "z = torch.cat([x, y], dim=0)\n",
    "print(z, z.shape)"
   ]
  },
  {
   "cell_type": "code",
   "execution_count": null,
   "id": "6c18b03f",
   "metadata": {},
   "outputs": [],
   "source": [
    "x = torch.ones(2, 3)\n",
    "y = torch.ones(2, 3)\n",
    "z = torch.stack([x, y], dim=1)\n",
    "print(z, z.shape)"
   ]
  },
  {
   "cell_type": "code",
   "execution_count": null,
   "id": "125953c1",
   "metadata": {},
   "outputs": [],
   "source": [
    "def add_two_lists(x, y):\n",
    "    z = []\n",
    "    for i, j in zip(x, y):\n",
    "        z.append(i + j)\n",
    "    return z\n",
    "\n",
    "\n",
    "x = torch.ones(5000)\n",
    "y = torch.ones(5000)\n",
    "t1 = time.time()\n",
    "z = add_two_lists(x, y)\n",
    "print(f\"{time.time() - t1:.4f} sec.\")"
   ]
  },
  {
   "cell_type": "code",
   "execution_count": null,
   "id": "4d16279f",
   "metadata": {},
   "outputs": [],
   "source": [
    "def add_two_lists(x, y):\n",
    "    return x + y\n",
    "\n",
    "\n",
    "x = torch.ones(5000)\n",
    "y = torch.ones(5000)\n",
    "t1 = time.time()\n",
    "z = add_two_lists(x, y)\n",
    "print(f\"{time.time() - t1:.4f} sec.\")"
   ]
  },
  {
   "cell_type": "code",
   "execution_count": null,
   "id": "2d772b9f",
   "metadata": {},
   "outputs": [],
   "source": [
    "x = torch.randn(3, 3)\n",
    "y = torch.zeros(5, 2, dtype=torch.long)\n",
    "print(x.to(torch.float32))\n",
    "print(x.to(torch.bool))\n",
    "print(x.to(y))"
   ]
  },
  {
   "cell_type": "code",
   "execution_count": null,
   "id": "a92867f0",
   "metadata": {},
   "outputs": [],
   "source": [
    "x = torch.arange(8)\n",
    "print(x)\n",
    "y = torch.arange(2, 8)\n",
    "print(y)\n",
    "z = torch.arange(3, 10, step=2)\n",
    "print(z)"
   ]
  }
 ],
 "metadata": {
  "jupytext": {
   "cell_markers": "region,endregion"
  },
  "kernelspec": {
   "display_name": "Python 3",
   "language": "python",
   "name": "python3"
  }
 },
 "nbformat": 4,
 "nbformat_minor": 5
}
