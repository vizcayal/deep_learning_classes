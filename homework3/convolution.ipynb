{
 "cells": [
  {
   "cell_type": "code",
   "execution_count": 30,
   "metadata": {},
   "outputs": [],
   "source": [
    "import torch"
   ]
  },
  {
   "cell_type": "code",
   "execution_count": null,
   "metadata": {},
   "outputs": [],
   "source": [
    "class ConvNet(torch.nn.Module):\n",
    "    class Block(torch.nn.Module):\n",
    "        def __init__(self, in_channels, out_channels, stride):\n",
    "            super().__init__()\n",
    "            kernel_size = 3\n",
    "            padding = kernel_size-1//2\n",
    "            self.c1 = torch.nn.Conv2d(in_channels, out_channels, kernel_size, stride, padding)\n",
    "            self.c2 = torch.nn.Conv2d(out_channels, out_channels, kernel_size, 1, padding)\n",
    "            self.c3 = torch.nn.Conv2d(out_channels, out_channels, kernel_size, 1, padding)\n",
    "            self.relu = torch.nn.ReLU()\n",
    "        \n",
    "        def forward(self, x):\n",
    "            x = self.relu(self.c1(x))\n",
    "            x = self.relu(self.c2(x))\n",
    "            x = self.relu(self.c3(x))\n",
    "            return x\n",
    "            \n",
    "    def __init__(self, channel_l0 = 64, n_blocks = 4):\n",
    "        super().__init__()\n",
    "        cnn_layers = [\n",
    "            torch.nn.Conv2d(3, channel_l0, kernel_size = 11, stride = 2, padding = 5 ),\n",
    "            torch.nn.ReLU(),\n",
    "        ]\n",
    "        c1 = channel_l0\n",
    "        for c2 in range(n_blocks):\n",
    "            c2 = c1 * 2\n",
    "            cnn_layers.append((self.Block(c1, c2, stride = 2)))\n",
    "            c1 = c2\n",
    "        cnn_layers.append(torch.nn.Conv2d(c1, 1, kernel_size=1))\n",
    "        cnn_layers.append(torch.nn.AdaptiveAvgPool2d(1))\n",
    "        self.network = torch.nn.Sequential(*cnn_layers)\n",
    "    \n",
    "    def forward(self, x):\n",
    "        return self.network(x)\n",
    "\n",
    "net = ConvNet(n_blocks= 3)\n",
    "x = torch.randn(1, 3, 64, 64)\n",
    "print(net(x))\n",
    "print(net)\n"
   ]
  }
 ],
 "metadata": {
  "kernelspec": {
   "display_name": "ml_env",
   "language": "python",
   "name": "python3"
  },
  "language_info": {
   "codemirror_mode": {
    "name": "ipython",
    "version": 3
   },
   "file_extension": ".py",
   "mimetype": "text/x-python",
   "name": "python",
   "nbconvert_exporter": "python",
   "pygments_lexer": "ipython3",
   "version": "3.9.12"
  }
 },
 "nbformat": 4,
 "nbformat_minor": 2
}
