{
 "cells": [
  {
   "cell_type": "code",
   "execution_count": 1,
   "metadata": {},
   "outputs": [],
   "source": [
    "import torch"
   ]
  },
  {
   "cell_type": "code",
   "execution_count": 14,
   "metadata": {},
   "outputs": [
    {
     "data": {
      "text/plain": [
       "torch.Size([1, 1, 12, 12])"
      ]
     },
     "execution_count": 14,
     "metadata": {},
     "output_type": "execute_result"
    }
   ],
   "source": [
    "class ConvNet(torch.nn.Module):\n",
    "    def __init__(self, channel_l0 = 64, layers = [16, 32, 64], kernel_size = 3, stride = 1):\n",
    "        super().__init__()\n",
    "        cnn_layers = []\n",
    "        c1 = 3\n",
    "        for c2 in layers:\n",
    "            cnn_layers.append(torch.nn.Conv2d(c1, c2, kernel_size, stride, padding = (kernel_size-1//2)))\n",
    "            cnn_layers.append(torch.nn.ReLU())\n",
    "            c1 = c2\n",
    "\n",
    "        cnn_layers.append(torch.nn.Conv2d(c1, 1, kernel_size=1))\n",
    "        self.network = torch.nn.Sequential(*cnn_layers)\n",
    "    \n",
    "    def forward(self, x):\n",
    "        return self.network(x)\n",
    "\n",
    "net = ConvNet(stride = 2)\n",
    "x = torch.randn(1, 3, 64, 64)\n",
    "net(x).shape"
   ]
  }
 ],
 "metadata": {
  "kernelspec": {
   "display_name": "ml_env",
   "language": "python",
   "name": "python3"
  },
  "language_info": {
   "codemirror_mode": {
    "name": "ipython",
    "version": 3
   },
   "file_extension": ".py",
   "mimetype": "text/x-python",
   "name": "python",
   "nbconvert_exporter": "python",
   "pygments_lexer": "ipython3",
   "version": "3.9.12"
  }
 },
 "nbformat": 4,
 "nbformat_minor": 2
}
