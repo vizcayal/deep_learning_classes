{
 "cells": [
  {
   "cell_type": "markdown",
   "metadata": {},
   "source": [
    "# import libraries"
   ]
  },
  {
   "cell_type": "code",
   "execution_count": null,
   "metadata": {},
   "outputs": [],
   "source": [
    "import torchvision\n",
    "import torch\n",
    "from PIL import Image\n",
    "\n",
    "size = (128, 128)\n",
    "transform = torchvision.transforms.Compose([torchvision.transforms.Resize(size), torchvision.transforms.ToTensor()])\n",
    "train_dataset = list(torchvision.datasets.Flowers102(\"./flowers\", \"train\", transform=transform, download= True))\n",
    "test_dataset = list(torchvision.datasets.Flowers102(\"./flowers\", \"test\", transform=transform, download= True))\n",
    "\n",
    "def visualize_image(img: torch.Tensor) -> Image.Image:\n",
    "    return Image.fromarray((img.permute(1,2,0)* 255).to(torch.uint8).numpy())\n"
   ]
  },
  {
   "cell_type": "markdown",
   "metadata": {},
   "source": [
    "# Visualize"
   ]
  },
  {
   "cell_type": "code",
   "execution_count": null,
   "metadata": {},
   "outputs": [],
   "source": [
    "import matplotlib.pyplot as plt\n",
    "f, ax = plt.subplots(4, 10, figsize = (10, 5))\n",
    "for i, (im,l) in enumerate(list(train_dataset)[:40]):\n",
    "    ax[i // 10, i%10].imshow(visualize_image(im))\n",
    "    ax[i // 10, i%10].set_title(l)\n",
    "    ax[i//10, i%10].axis('off')"
   ]
  },
  {
   "cell_type": "markdown",
   "metadata": {},
   "source": [
    "# change the data to tensors"
   ]
  },
  {
   "cell_type": "code",
   "execution_count": 15,
   "metadata": {},
   "outputs": [],
   "source": [
    "train_images = torch.stack([im for im, _ in train_dataset], dim = 0)\n",
    "train_labels = torch.tensor([l for _, l in train_dataset])"
   ]
  },
  {
   "cell_type": "markdown",
   "metadata": {},
   "source": [
    "# model + loss function"
   ]
  },
  {
   "cell_type": "code",
   "execution_count": 27,
   "metadata": {},
   "outputs": [],
   "source": [
    "model = torch.nn.Linear(3*128*128, 1)\n",
    "loss = torch.nn.MSELoss()\n",
    "optimizer = torch.optim.SGD(model.parameters(), lr = 0.0001)"
   ]
  },
  {
   "cell_type": "markdown",
   "metadata": {},
   "source": [
    "# training"
   ]
  },
  {
   "cell_type": "code",
   "execution_count": null,
   "metadata": {},
   "outputs": [],
   "source": [
    "train_images = train_images[train_labels <= 1]\n",
    "train_labels = train_labels[train_labels <= 1]\n",
    "\n",
    "for epoch in range(100):\n",
    "    #model pred\n",
    "    pred_label = model(train_images.view(-1, 128*128*3))\n",
    "    #loss calc\n",
    "    loss_train = loss(pred_label.view(-1), train_labels.float())\n",
    "    #reset gradient\n",
    "    optimizer.zero_grad()\n",
    "\n",
    "    loss_train.backward()\n",
    "    optimizer.step()\n",
    "    print(f'epoch: {epoch}, loss: {loss_train}')   "
   ]
  },
  {
   "cell_type": "markdown",
   "metadata": {},
   "source": [
    "# accuracy"
   ]
  },
  {
   "cell_type": "code",
   "execution_count": 35,
   "metadata": {},
   "outputs": [
    {
     "name": "stdout",
     "output_type": "stream",
     "text": [
      "0.30193892121315\n"
     ]
    }
   ],
   "source": [
    "test_images = torch.stack([im for im, _ in test_dataset], dim = 0)\n",
    "test_labels = torch.tensor([l for _, l in test_dataset])\n",
    "\n",
    "test_images = test_images[test_labels<=1]\n",
    "test_labels = test_labels[test_labels<=1]\n",
    "pred_label = model(test_images.view(-1, 128 * 128 * 3))\n",
    "print(loss(pred_label.view(-1), test_labels.float()).item())"
   ]
  },
  {
   "cell_type": "markdown",
   "metadata": {},
   "source": [
    "# binary cross entropy"
   ]
  },
  {
   "cell_type": "code",
   "execution_count": 39,
   "metadata": {},
   "outputs": [],
   "source": [
    "train_images = torch.stack([im for im, _ in train_dataset], dim = 0)\n",
    "train_labels = torch.tensor([l for _, l in train_dataset])\n",
    "\n",
    "train_images = train_images[train_labels <=1]\n",
    "train_labels = train_labels[train_labels <=1]\n",
    "\n",
    "loss = torch.nn.BCELoss()\n",
    "\n",
    "for epoch in range(10):\n",
    "    pred = model(train_images.view(-1, 128 * 128 * 3))\n",
    "\n",
    "    loss_train = loss(pred, train_labels)\n",
    "    "
   ]
  }
 ],
 "metadata": {
  "kernelspec": {
   "display_name": "deep_learn_env",
   "language": "python",
   "name": "python3"
  },
  "language_info": {
   "codemirror_mode": {
    "name": "ipython",
    "version": 3
   },
   "file_extension": ".py",
   "mimetype": "text/x-python",
   "name": "python",
   "nbconvert_exporter": "python",
   "pygments_lexer": "ipython3",
   "version": "3.11.9"
  }
 },
 "nbformat": 4,
 "nbformat_minor": 2
}
