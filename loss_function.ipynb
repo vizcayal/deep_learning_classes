{
 "cells": [
  {
   "cell_type": "markdown",
   "metadata": {},
   "source": [
    "# importing"
   ]
  },
  {
   "cell_type": "code",
   "execution_count": 1,
   "metadata": {},
   "outputs": [],
   "source": [
    "import torch"
   ]
  },
  {
   "cell_type": "markdown",
   "metadata": {},
   "source": [
    "# linear model"
   ]
  },
  {
   "cell_type": "code",
   "execution_count": 2,
   "metadata": {},
   "outputs": [],
   "source": [
    "model = torch.nn.Linear(10, 1)"
   ]
  },
  {
   "cell_type": "markdown",
   "metadata": {},
   "source": [
    "# create data"
   ]
  },
  {
   "cell_type": "code",
   "execution_count": 3,
   "metadata": {},
   "outputs": [
    {
     "name": "stdout",
     "output_type": "stream",
     "text": [
      "x = tensor([[0.4937, 0.2986, 0.4297, 0.1595, 0.7935, 0.1516, 0.9756, 0.7155, 0.8049,\n",
      "         0.6159],\n",
      "        [0.4649, 0.0320, 0.9437, 0.0305, 0.2426, 0.2143, 0.4686, 0.8180, 0.4222,\n",
      "         0.3358],\n",
      "        [0.1647, 0.0335, 0.6290, 0.4182, 0.3656, 0.8174, 0.7402, 0.8436, 0.3609,\n",
      "         0.7277],\n",
      "        [0.8680, 0.0620, 0.2287, 0.0183, 0.8680, 0.2311, 0.3670, 0.1372, 0.6131,\n",
      "         0.2273],\n",
      "        [0.2772, 0.8392, 0.8734, 0.8589, 0.5890, 0.4811, 0.3271, 0.0959, 0.2609,\n",
      "         0.5047],\n",
      "        [0.0511, 0.0175, 0.0908, 0.0907, 0.1260, 0.4299, 0.4094, 0.2577, 0.4063,\n",
      "         0.5150],\n",
      "        [0.3022, 0.5535, 0.5845, 0.4111, 0.5644, 0.1658, 0.2392, 0.5867, 0.4686,\n",
      "         0.8244],\n",
      "        [0.1664, 0.4741, 0.4713, 0.9205, 0.3793, 0.1277, 0.5436, 0.3285, 0.9294,\n",
      "         0.3817],\n",
      "        [0.5182, 0.4564, 0.5148, 0.7797, 0.0262, 0.8220, 0.5090, 0.6377, 0.7087,\n",
      "         0.6629],\n",
      "        [0.4628, 0.7029, 0.4440, 0.0199, 0.3162, 0.4193, 0.6612, 0.9850, 0.4732,\n",
      "         0.3292],\n",
      "        [0.3893, 0.7872, 0.6519, 0.0061, 0.0764, 0.9823, 0.2329, 0.0659, 0.3479,\n",
      "         0.5496],\n",
      "        [0.4951, 0.7565, 0.7665, 0.7406, 0.3345, 0.0754, 0.1320, 0.9327, 0.0654,\n",
      "         0.2121],\n",
      "        [0.4482, 0.7873, 0.0221, 0.7348, 0.3190, 0.0246, 0.0934, 0.1521, 0.0955,\n",
      "         0.4650],\n",
      "        [0.6304, 0.9507, 0.0639, 0.4275, 0.5539, 0.2540, 0.2351, 0.6924, 0.2543,\n",
      "         0.6853],\n",
      "        [0.6558, 0.9077, 0.0410, 0.6817, 0.7116, 0.5069, 0.0591, 0.0833, 0.2092,\n",
      "         0.0247],\n",
      "        [0.2246, 0.0099, 0.9984, 0.6694, 0.4543, 0.4116, 0.3830, 0.2880, 0.1500,\n",
      "         0.7225],\n",
      "        [0.5147, 0.0022, 0.2654, 0.3724, 0.6557, 0.7529, 0.9406, 0.3901, 0.6625,\n",
      "         0.6600],\n",
      "        [0.9942, 0.7944, 0.2271, 0.3722, 0.9146, 0.2507, 0.9311, 0.3265, 0.6052,\n",
      "         0.7315],\n",
      "        [0.4599, 0.3376, 0.2123, 0.4821, 0.6878, 0.2957, 0.3909, 0.8595, 0.5372,\n",
      "         0.6979],\n",
      "        [0.6740, 0.5209, 0.0214, 0.7799, 0.8040, 0.3328, 0.1477, 0.8193, 0.6499,\n",
      "         0.9984]]) y = tensor([[0.3606],\n",
      "        [0.1851],\n",
      "        [0.0776],\n",
      "        [0.7026],\n",
      "        [0.0129],\n",
      "        [0.0943],\n",
      "        [0.0615],\n",
      "        [0.6951],\n",
      "        [0.3493],\n",
      "        [0.3878],\n",
      "        [0.0074],\n",
      "        [0.1200],\n",
      "        [0.7186],\n",
      "        [0.8797],\n",
      "        [0.8176],\n",
      "        [0.5133],\n",
      "        [0.5825],\n",
      "        [0.3598],\n",
      "        [0.3170],\n",
      "        [0.5856]])\n"
     ]
    }
   ],
   "source": [
    "x = torch.rand(20,10)\n",
    "y = torch.rand(20,1)\n",
    "print(f'{x = } {y = }')"
   ]
  },
  {
   "cell_type": "markdown",
   "metadata": {},
   "source": [
    "# preds"
   ]
  },
  {
   "cell_type": "code",
   "execution_count": 6,
   "metadata": {},
   "outputs": [
    {
     "name": "stdout",
     "output_type": "stream",
     "text": [
      "preds = tensor([[-0.2759],\n",
      "        [-0.0061],\n",
      "        [-0.1072],\n",
      "        [-0.2109],\n",
      "        [ 0.0434],\n",
      "        [-0.0210],\n",
      "        [-0.0400],\n",
      "        [-0.0984],\n",
      "        [ 0.0171],\n",
      "        [-0.1006],\n",
      "        [ 0.3853],\n",
      "        [-0.1879],\n",
      "        [-0.2228],\n",
      "        [-0.2390],\n",
      "        [-0.2007],\n",
      "        [-0.0213],\n",
      "        [-0.2333],\n",
      "        [-0.3451],\n",
      "        [-0.2920],\n",
      "        [-0.3285]], grad_fn=<AddmmBackward0>)\n"
     ]
    }
   ],
   "source": [
    "preds = model(x)\n",
    "print(f'{preds = }')"
   ]
  },
  {
   "cell_type": "markdown",
   "metadata": {},
   "source": [
    "# loss"
   ]
  },
  {
   "cell_type": "code",
   "execution_count": 5,
   "metadata": {},
   "outputs": [
    {
     "name": "stdout",
     "output_type": "stream",
     "text": [
      "loss = tensor(0.4190, grad_fn=<MseLossBackward0>)\n",
      "loss = tensor(0.4190, grad_fn=<MeanBackward0>)\n"
     ]
    }
   ],
   "source": [
    "loss = torch.nn.functional.mse_loss(y, preds)\n",
    "print(f'{loss = }')\n",
    "\n",
    "# my own loss\n",
    "def loss_mse(y, pred):\n",
    "    return torch.mean((y-pred) ** 2)\n",
    "\n",
    "loss = loss_mse(y, preds)\n",
    "print(f'{loss = }')\n"
   ]
  },
  {
   "cell_type": "markdown",
   "metadata": {},
   "source": [
    "# classification"
   ]
  },
  {
   "cell_type": "code",
   "execution_count": 12,
   "metadata": {},
   "outputs": [
    {
     "name": "stdout",
     "output_type": "stream",
     "text": [
      "y = tensor([[0.],\n",
      "        [0.],\n",
      "        [0.],\n",
      "        [1.],\n",
      "        [0.],\n",
      "        [1.],\n",
      "        [1.],\n",
      "        [1.],\n",
      "        [1.],\n",
      "        [0.],\n",
      "        [1.],\n",
      "        [0.],\n",
      "        [1.],\n",
      "        [1.],\n",
      "        [0.],\n",
      "        [1.],\n",
      "        [0.],\n",
      "        [0.],\n",
      "        [0.],\n",
      "        [1.]])\n"
     ]
    }
   ],
   "source": [
    "y = (torch.randn(20,1)>0).float()\n",
    "print(f'{y = }')"
   ]
  },
  {
   "cell_type": "code",
   "execution_count": 13,
   "metadata": {},
   "outputs": [
    {
     "name": "stdout",
     "output_type": "stream",
     "text": [
      "loss = tensor(0.6753, grad_fn=<BinaryCrossEntropyWithLogitsBackward0>)\n"
     ]
    }
   ],
   "source": [
    "loss = torch.nn.functional.binary_cross_entropy_with_logits(preds, y)\n",
    "print(f'{loss = }')"
   ]
  },
  {
   "cell_type": "markdown",
   "metadata": {},
   "source": [
    "# Multi_class Classification "
   ]
  },
  {
   "cell_type": "code",
   "execution_count": 30,
   "metadata": {},
   "outputs": [
    {
     "name": "stdout",
     "output_type": "stream",
     "text": [
      "y= tensor([0, 0, 2, 1, 1, 0, 1, 2, 2, 1, 1, 2, 2, 1, 2, 1, 0, 1, 2, 1])\n"
     ]
    }
   ],
   "source": [
    "n_classes = 3\n",
    "model = torch.nn.Linear(10, n_classes)\n",
    "preds = model(x)\n",
    "#print(f'{preds = }')\n",
    "y = (torch.randn(20)>0).long() + (torch.randn(20)>0).long() \n",
    "y = torch.randint(0, n_classes, (20,))\n",
    "loss = torch.nn.functional.cross_entropy(preds, y)\n",
    "print(f'{y= }')"
   ]
  }
 ],
 "metadata": {
  "kernelspec": {
   "display_name": "deep_learn_env",
   "language": "python",
   "name": "python3"
  },
  "language_info": {
   "codemirror_mode": {
    "name": "ipython",
    "version": 3
   },
   "file_extension": ".py",
   "mimetype": "text/x-python",
   "name": "python",
   "nbconvert_exporter": "python",
   "pygments_lexer": "ipython3",
   "version": "3.11.9"
  }
 },
 "nbformat": 4,
 "nbformat_minor": 2
}
